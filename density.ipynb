{
 "cells": [
  {
   "cell_type": "markdown",
   "metadata": {},
   "source": [
    "# Measurement of the density of solids\n",
    "\n",
    "Theory:\n",
    "The density of regularly shaped solids can be determined by measuring their mass, m, and calculating their volume, V. The density, ρ, can then be found using:\n",
    "\n",
    "$$ \\rho = 𝑚/𝑉𝑉$$\n",
    "\n",
    "## Apparatus:\n",
    "\n",
    "* Various regularly shaped solids both rectangular and circular\n",
    "* 30 cm ruler (resolution ± 0.1cm)\n",
    "* Vernier calipers / micrometer (resolution ± 0.01mm)\n",
    "* Balance (resolution ± 0.1 g / 1g)\n",
    "\n",
    "## Experimental Method:\n",
    "\n",
    "Determine the mass of the object using the balance. The volume of a rectangle can be found by measuring the length, l, width, w, and height, h. Calculate the volume, V using:\n",
    "V = l × w × h. \n",
    "\n",
    "Calculate the density using: ρ = m/V.\n",
    "\n",
    "Extension:\n",
    "This is an excellent opportunity to introduce the concept of uncertainty to the students.\n",
    "This could be extended to determine the density of irregular objects by putting them in water and measuring the volume of water displaced."
   ]
  },
  {
   "cell_type": "code",
   "execution_count": null,
   "metadata": {},
   "outputs": [],
   "source": []
  },
  {
   "cell_type": "markdown",
   "metadata": {},
   "source": [
    "## Conclusion\n",
    "In comparison, our calculated resistivity is 0.13 Ohm/m vs a databook value of 0.105 Ohm/m  This is well within the expected variance of an A-level practical.\n"
   ]
  },
  {
   "cell_type": "code",
   "execution_count": null,
   "metadata": {},
   "outputs": [],
   "source": []
  }
 ],
 "metadata": {
  "kernelspec": {
   "display_name": "Python 3",
   "language": "python",
   "name": "python3"
  },
  "language_info": {
   "codemirror_mode": {
    "name": "ipython",
    "version": 3
   },
   "file_extension": ".py",
   "mimetype": "text/x-python",
   "name": "python",
   "nbconvert_exporter": "python",
   "pygments_lexer": "ipython3",
   "version": "3.6.5"
  }
 },
 "nbformat": 4,
 "nbformat_minor": 2
}
