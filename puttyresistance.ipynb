{
 "cells": [
  {
   "cell_type": "markdown",
   "metadata": {},
   "source": [
    "# Resistivity of Putty Investigation\n",
    "\n",
    "Theory:\n",
    "\n",
    "Resistivity, $ρ$ can be found using the equation: \n",
    "\n",
    "$$ R= \\frac {\\rho l}{A} $$\n",
    "\n",
    "where $l$ is the length of the wire, <br>\n",
    "$A$ the cross-sectional area and <br>\n",
    "$R$ the resistance. <br>\n",
    "This can be compared with the equation for a straight line $y= mx + c $\n",
    "<br>\n",
    "A graph plotted of $R$ (y-axis) against $l$ (x-axis) will be a straight line through the origin of gradient $\\frac {\\rho}{A}$. <br>\n",
    "The cross sectional area can be found using $A = \\pi r^{2}$ and the resistivity calculated by $\\rho = \\text{ gradient } \\times A$. \n",
    "\n",
    "## Apparatus:\n",
    "<ul>\n",
    "<li>Meter rule +/- 1mm</li>\n",
    "<li>Powersupply</li>\n",
    "<li>Ammeter</li>\n",
    "<li>Micrometer +/- 0.01mm</li>\n",
    "<li>110cm length of Nichrome wire</li>\n",
    "<li>Voltmeter</li>\n"
   ]
  },
  {
   "cell_type": "code",
   "execution_count": 12,
   "metadata": {},
   "outputs": [
    {
     "name": "stdout",
     "output_type": "stream",
     "text": [
      "The parameters of the line: [[ 0.13452381]\n",
      " [-0.01035714]]\n"
     ]
    },
    {
     "data": {
      "image/png": "[encoded data removed]",
      "text/plain": [
       "<Figure size 432x288 with 1 Axes>"
      ]
     },
     "metadata": {},
     "output_type": "display_data"
    }
   ],
   "source": [
    "# Importing the necessary libraries\n",
    "from matplotlib import pyplot as plt\n",
    "import numpy as np\n",
    "#from prettytable import PrettyTable\n",
    "\n",
    "# Preparing the data to be computed and plotted\n",
    "dt = np.array([\n",
    "          \n",
    "    [1.0, 0.15],\n",
    "    [2.0, 0.29],\n",
    "    [3.0, 0.38],\n",
    "    [4.0, 0.50],\n",
    "    [5.0, 0.60],\n",
    "    [6.0, 0.81],\n",
    "    [7.0, 0.90],\n",
    "    [8.0, 1.13]\n",
    "])\n",
    "\n",
    "# Preparing X and y data from the given data\n",
    "x = dt[:, 0].reshape(dt.shape[0], 1)\n",
    "X = np.append(x, np.ones((dt.shape[0], 1)), axis=1)\n",
    "y = dt[:, 1].reshape(dt.shape[0], 1)\n",
    "\n",
    "# Calculating the parameters using the least square method\n",
    "theta = np.linalg.inv(X.T.dot(X)).dot(X.T).dot(y)\n",
    "\n",
    "print(f'The parameters of the line: {theta}')\n",
    "\n",
    "# Now, calculating the y-axis values against x-values according to\n",
    "# the parameters theta0 and theta1\n",
    "y_line = X.dot(theta)\n",
    "\n",
    "# Plotting the data points and the best fit line\n",
    "plt.scatter(x, y)\n",
    "plt.plot(x, y_line, 'r')\n",
    "plt.title('Best fit line using regression method')\n",
    "plt.xlabel('Length in cm')\n",
    "plt.ylabel('Resistance')\n",
    "\n",
    "plt.show()\n",
    "\n",
    "\n",
    "\n",
    "#def makePrettyTable(table_col1, table_col2):\n",
    " #   table = PrettyTable()\n",
    "  #  table.add_column(\"Column-1\", x)\n",
    "   # table.add_column(\"Column-2\", Y)\n",
    "    #return table"
   ]
  },
  {
   "cell_type": "markdown",
   "metadata": {},
   "source": [
    "## Conclusion\n",
    "In comparison, our calculated resistivity is 0.13 Ohm/m vs a databook value of 0.105 Ohm/m  This is well within the expected variance of an A-level practical.\n"
   ]
  },
  {
   "cell_type": "code",
   "execution_count": null,
   "metadata": {},
   "outputs": [],
   "source": []
  }
 ],
 "metadata": {
  "kernelspec": {
   "display_name": "Python 3",
   "language": "python",
   "name": "python3"
  },
  "language_info": {
   "codemirror_mode": {
    "name": "ipython",
    "version": 3
   },
   "file_extension": ".py",
   "mimetype": "text/x-python",
   "name": "python",
   "nbconvert_exporter": "python",
   "pygments_lexer": "ipython3",
   "version": "3.6.5"
  }
 },
 "nbformat": 4,
 "nbformat_minor": 2
}
