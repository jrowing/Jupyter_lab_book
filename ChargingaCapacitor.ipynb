{
 "cells": [
  {
   "cell_type": "markdown",
   "metadata": {},
   "source": [
    "# Charging a Capacitor\n",
    "\n",
    "The discharge of a capacitor is given by the equation: $ Q=Q_{0} e^{- \\frac{t}{RC}}$ which can be written in terms of the voltage\n",
    "across the capacitor as: \n",
    "\n",
    "\n",
    "   \n",
    "\n"
   ]
  },
  {
   "cell_type": "code",
   "execution_count": 4,
   "metadata": {},
   "outputs": [
    {
     "data": {
      "text/latex": [
       "$V=V_{0} e^{- \\frac{t}{RC}}$.\n",
       "\n"
      ],
      "text/plain": [
       "<IPython.core.display.Latex object>"
      ]
     },
     "metadata": {},
     "output_type": "display_data"
    }
   ],
   "source": [
    "%%latex\n",
    "$V=V_{0} e^{- \\frac{t}{RC}}$.\n",
    "\n"
   ]
  },
  {
   "cell_type": "markdown",
   "metadata": {},
   "source": [
    "By using logs, the above equation can be written as: $ \\ln V = \\frac{-t}{RC} + \\ln V_{0} $\n",
    "\n",
    "which can be compared with $y=mx+c$.\n",
    "The charging of a capacitor is given by:\n",
    "$$ V= V_{0} (1- e^{- \\frac {t}{RC}})$$\n",
    "Apparatus:\n",
    "<ul>\t\n",
    "<li>D.C. power supply</li>\n",
    "<li>Voltmeter (multimeter set on d.c. voltage range or CRO) – resolution ± 0.01 V</li>\n",
    "<li>Stopwatch – resolution: either ± 1 s or ± 0.01 s</li>\n",
    "<li>Suitable switches</li>\n",
    "<li>Electrolytic capacitors e.g. 1 000 µF or 2 200 µF</li>\n",
    "<li>Resistors e.g. 100 kΩ or other values</li>\n",
    "</ul>"
   ]
  },
  {
   "cell_type": "markdown",
   "metadata": {},
   "source": [
    "<h1>Experimental Method:</h1>\n",
    "The apparatus should be set up as shown. \n",
    "![chargingcapacitor.PNG](attachment:chargingcapacitor.PNG)"
   ]
  },
  {
   "cell_type": "markdown",
   "metadata": {},
   "source": [
    "Charging the capacitor:\n",
    "Learners can set up the circuit from the above diagram and by using\n",
    "electrolytic capacitors the correct polarity connection needs to be checked\n",
    "by supervisors. The two way switch needs to be in position 1 so that the\n",
    "capacitor can be charged and then switched over to position 2 to discharge.\n",
    "Pre-trial readings can be taken to determine suitable time intervals.\n",
    "\n",
    "Discharging the capacitor:\n",
    "The method is similar to charging the capacitor. Initially the switch is to be\n",
    "left open and then connected so that the capacitor charges.\n",
    ".\n",
    "\n",
    "\n",
    "Extension\n",
    "The equation ($t_{1/2} = 0.69RC$) i.e. the time taken for the voltage to fall to half its initial value could be investigated\n",
    "using the data obtained.\n",
    "Data Logging: The voltage across the capacitor can be measured using a suitable voltage sensor.\n",
    "<br>\n",
    "\n",
    "\n"
   ]
  },
  {
   "cell_type": "code",
   "execution_count": null,
   "metadata": {},
   "outputs": [],
   "source": []
  }
 ],
 "metadata": {
  "kernelspec": {
   "display_name": "Python 3 (ipykernel)",
   "language": "python",
   "name": "python3"
  },
  "language_info": {
   "codemirror_mode": {
    "name": "ipython",
    "version": 3
   },
   "file_extension": ".py",
   "mimetype": "text/x-python",
   "name": "python",
   "nbconvert_exporter": "python",
   "pygments_lexer": "ipython3",
   "version": "3.9.12"
  }
 },
 "nbformat": 4,
 "nbformat_minor": 2
}
