{
 "cells": [
  {
   "cell_type": "code",
   "execution_count": 1,
   "metadata": {},
   "outputs": [
    {
     "ename": "SyntaxError",
     "evalue": "invalid syntax (<ipython-input-1-356cd990d573>, line 1)",
     "output_type": "error",
     "traceback": [
      "\u001b[1;36m  File \u001b[1;32m\"<ipython-input-1-356cd990d573>\"\u001b[1;36m, line \u001b[1;32m1\u001b[0m\n\u001b[1;33m    Theory:\u001b[0m\n\u001b[1;37m           ^\u001b[0m\n\u001b[1;31mSyntaxError\u001b[0m\u001b[1;31m:\u001b[0m invalid syntax\n"
     ]
    }
   ],
   "source": [
    "Theory:\n",
    "Charles’ law states that for a constant amount of gas, the volume is proportional to the absolute temperature if the pressure remains constant.\n",
    "V\n",
    "∝\n",
    "T\n",
    " for constant \n",
    "P\n",
    "A plot of volume versus Centigrade temperature intercepts the x-axis at -273 oC which suggests that the gas would occupy no volume at this temperature. This theoretical value is known as absolute zero, and is also known as 0 Kelvin.\n",
    "Apparatus 1:\n",
    "Thermometer\n",
    "Scale/ruler\n",
    "Water\n",
    "Sulfuric acid\n",
    "Heat source\n",
    "Length of trapped air\n",
    "Experimental Method 1:\n",
    "The apparatus should be set up as shown.\n",
    "\n",
    "Heat the water using a Bunsen burner and stir regularly. Measure the length of the trapped air every 10 C up to 80 C. Plot a graph of the length of trapped air (y-axis) against temperature (x-axis). The temperature scale should cover the range -400 C to 100 C. The length scale should start at zero.\n",
    "Draw a line of best fit extended back until it cuts the x-axis, this is absolute zero.\n",
    "Apparatus 2:\n",
    "Thermometer\n",
    "Scale/ruler\n",
    "Water\n",
    "Sulfuric acid\n",
    "Heat source\n",
    "Length of trapped air\n",
    "Alternative Experimental Method:\n",
    "\n",
    "Obtain a 400-mL beakers and add crushed ice and water (total volume 250 mL), followed by 5–6 scoop-fulls of salt to beaker #1 to prepare a bath at a temperature between –10 °C and –15 °C.\n",
    "Obtain one large syringe. Lubricate the plunger of each syringe with silicone grease. Wearing gloves, apply a dab of grease to the black rubber gasket and use a wooden splint or tongue dispenser to spread a thin layer of grease over the surface of the gasket.\n",
    "Fill the syringe about 1/2-full with air and seal the syringe. Place into the water bath and heat to 80 degrees.\n",
    "Measure and record the volume at at least 8 different temperatures.\n",
    "Extension\n",
    "The pressure law will also give a value for absolute zero. Air trapped in a flask can be heated in a water bath and the pressure measured using a pressure gauge. A graph of pressure (y-axis) against Centigrade temperature (x-axis) can be extrapolated back to give a value for absolute zero.\n",
    "Further guidance\n",
    "Use appropriate analogue apparatus to record a range of measurements (to include length/distance, temperature, pressure, force, angles, volume) and to interpolate between scale markings.\n",
    "Use calipers and micrometers for small distances, using digital or vernier scales.\n",
    "Use ICT such as computer modelling, or data logger with a variety of sensors to collect data, or use of software to process data.\n",
    "Results\n",
    "Make sure you record your method and results clearly."
   ]
  },
  {
   "cell_type": "code",
   "execution_count": null,
   "metadata": {},
   "outputs": [],
   "source": []
  }
 ],
 "metadata": {
  "kernelspec": {
   "display_name": "Python 3",
   "language": "python",
   "name": "python3"
  },
  "language_info": {
   "codemirror_mode": {
    "name": "ipython",
    "version": 3
   },
   "file_extension": ".py",
   "mimetype": "text/x-python",
   "name": "python",
   "nbconvert_exporter": "python",
   "pygments_lexer": "ipython3",
   "version": "3.6.5"
  }
 },
 "nbformat": 4,
 "nbformat_minor": 2
}
