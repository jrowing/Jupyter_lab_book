{
 "cells": [
  {
   "cell_type": "markdown",
   "metadata": {},
   "source": [
    "# Investigation of Magnetic flux density using a hall probe\n",
    "\n",
    "## Theory:\n",
    "A Hall probe is a slice of doped semiconductor with a connecting wire at each end to provide a steady current. Another two wires are connected across the edges of the slice to allow the Hall potential difference, VH to be measured. Note that the slice must be placed so that it is at right angles to the magnetic field lines. When a constant current flows the Hall pd is proportional to the magnetic field strength, and so can be calibrated using a known magnetic field.\n",
    "\n",
    "## Apparatus:\n",
    "Hall probe\n",
    "Solenoid\n",
    "Voltmeter\n",
    "Ammeter\n",
    "d.c. supply\n",
    "Magnet of known magnetic field strength\n",
    "\n",
    "## Experimental Method:\n",
    "\n",
    "Place the Hall probe into a known magnetic field, B1 and note the Hall potential difference, V1. Then place the Hall probe in the centre of a solenoid. Ensure, in both cases, the probe is at 90o to the magnetic field. Again measure the Hall potential difference, V2 when the probe is in the solenoid. The unknown magnetic field of the solenoid, B2, can be found using:\n",
    "$$B_{2} = \\frac{B_{1}}{V_{1}}V_{2}$$\n",
    "\n",
    "## Extension:\n",
    "A graph of field strength against distance along the solenoid could be drawn to show the difference in magnetic field at the ends. It is also possible to investigate the variation of magnetic field strength with the solenoid diameter.\n"
   ]
  },
  {
   "cell_type": "code",
   "execution_count": null,
   "metadata": {},
   "outputs": [],
   "source": []
  },
  {
   "cell_type": "markdown",
   "metadata": {},
   "source": [
    "## Conclusion\n",
    "In comparison, our calculated resistivity is 0.13 Ohm/m vs a databook value of 0.105 Ohm/m  This is well within the expected variance of an A-level practical.\n"
   ]
  },
  {
   "cell_type": "code",
   "execution_count": null,
   "metadata": {},
   "outputs": [],
   "source": []
  }
 ],
 "metadata": {
  "kernelspec": {
   "display_name": "Python 3",
   "language": "python",
   "name": "python3"
  },
  "language_info": {
   "codemirror_mode": {
    "name": "ipython",
    "version": 3
   },
   "file_extension": ".py",
   "mimetype": "text/x-python",
   "name": "python",
   "nbconvert_exporter": "python",
   "pygments_lexer": "ipython3",
   "version": "3.6.5"
  }
 },
 "nbformat": 4,
 "nbformat_minor": 2
}
