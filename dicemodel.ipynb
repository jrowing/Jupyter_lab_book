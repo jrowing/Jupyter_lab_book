{
 "cells": [
  {
   "cell_type": "markdown",
   "metadata": {},
   "source": [
    "# Radioactivity dice decay model\n",
    "\n",
    "Theory:\n",
    "The 'radioactive dice' experiment is an oft-used classroom activity used to illustrate the concept of half-life in the decay of radioactive nuclei.\n",
    "The experiment itself is very simple and can be used as a base for extending the curriculum. I reccomend that you read the\n",
    "article linked to below before using this sim to explore how the value of the half-life obtained from this experiment differs from that calculated:\n",
    "\n",
    "https://iopscience.iop.org/article/10.1088/0031-9120/47/2/197\n",
    "\n",
    "## Theory:\n",
    "Radioactive decay is based on the assumption that the disintegrations are entirely at random. \n",
    "\t\t This can be modelled using dice to represent the atoms of a radioactive isotope.\n",
    "         \n",
    "## Activity\n",
    "In this experiment you are crudely modelling radioactive decay with dice. The activity formula -\n",
    "$$ \\frac{dn}{dt}=- \\lambda N $$\n",
    "Then must have the form:\n",
    "$$ \\frac{dn}{dt}= -\\frac{1}{6} N $$\n",
    "That is, every roll of the dice should cause approximately one-sixth of the dice to \"decay\" \n",
    "## Results and graph\n",
    "You will need to take enough results to plot a graph showing the exponential decay, you can compare this to the theoretical decay curve: $$ N= N_{0} e^{- \\lambda t} $$\n",
    "Where \"t\" is the number of throws, here representing the passage of one second.\n",
    "\n",
    "## Apparatus:\n",
    "1000 dice \n",
    "10 ×cups to hold 100 dice each\n",
    "\n",
    "## Method:\n",
    "\n",
    "Each student should have an equal share of the 1000 dice (or cubes) and a cup. \n",
    "Throw the dice onto the table.\n",
    "Suppose all the dice with the number 1 uppermost have disintegrated. \n",
    "Remove these dice and count the number remaining. \n",
    "Repeat this for a further 9 throws (making 10 in all) and note down the number of throws and the number of dice remaining each time. \n",
    "When complete combine the results of the class so you have data for 1000 dice rolled 10 times. \n",
    "\n",
    "\n",
    "Plot a graph of number of dice remaining (y-axis) against number of throws (x-axis). This should give an exponential curve with a half-life of about 3.8 throws. <br>\n",
    "\n",
    "## Model equation\n",
    "\n",
    "The equation of the theoretical curve is:\n",
    "$$ N= N_{0} e^{- \\lambda t} $$"
   ]
  },
  {
   "cell_type": "code",
   "execution_count": 13,
   "metadata": {},
   "outputs": [
    {
     "data": {
      "text/plain": [
       "[<matplotlib.lines.Line2D at 0x16a3d520c50>]"
      ]
     },
     "execution_count": 13,
     "metadata": {},
     "output_type": "execute_result"
    },
    {
     "data": {
      "image/png": "[encoded data removed]",
      "text/plain": [
       "<Figure size 432x288 with 1 Axes>"
      ]
     },
     "metadata": {},
     "output_type": "display_data"
    }
   ],
   "source": [
    "# some library objects we need\n",
    "from numpy.random import binomial, seed\n",
    "from numpy import zeros, arange\n",
    "from matplotlib import pyplot as plt\n",
    "# initial population\n",
    "P0 = 80\n",
    "\n",
    "# number of rolls per experiment\n",
    "n_rolls = 50\n",
    "\n",
    "# number of experiments\n",
    "n_exp = 1\n",
    "\n",
    "# probability that any given die will \"decay\" on a given roll\n",
    "p = 1/6\n",
    "# location to track average dice remaining for each roll number\n",
    "pop_avg = zeros(n_rolls+1)\n",
    "\n",
    "# \"seed\" the random number generator\n",
    "# (This makes the results look different\n",
    "# each time the code is run.)\n",
    "seed()\n",
    "\n",
    "# loop over experiments\n",
    "for n in range(n_exp):\n",
    "\n",
    "  # reset the dice population\n",
    "    P = P0\n",
    "\n",
    "  # roll the dice\n",
    "for k in range(1,n_rolls+1):\n",
    "\n",
    "    # figure out how many dice decay this time\n",
    "    r = binomial(P,p)\n",
    "\n",
    "    # remove the dice\n",
    "    P -= r\n",
    "\n",
    "    # update the average\n",
    "    pop_avg[k] += P\n",
    "\n",
    "# final division to compute the averages\n",
    "pop_avg /= n_exp\n",
    "\n",
    "# we always started with P0\n",
    "pop_avg[0] = P0\n",
    "\n",
    "# compute the model predictions\n",
    "model = (1.0-p)**arange(n_rolls+1.0)*P0\n",
    "\n",
    "plt.plot(pop_avg)\n",
    "\n",
    "plt.plot(model)\n",
    "\n"
   ]
  },
  {
   "cell_type": "markdown",
   "metadata": {},
   "source": [
    "## Conclusion\n",
    "In comparison, \n"
   ]
  },
  {
   "cell_type": "code",
   "execution_count": null,
   "metadata": {},
   "outputs": [],
   "source": []
  }
 ],
 "metadata": {
  "kernelspec": {
   "display_name": "Python 3",
   "language": "python",
   "name": "python3"
  },
  "language_info": {
   "codemirror_mode": {
    "name": "ipython",
    "version": 3
   },
   "file_extension": ".py",
   "mimetype": "text/x-python",
   "name": "python",
   "nbconvert_exporter": "python",
   "pygments_lexer": "ipython3",
   "version": "3.6.5"
  }
 },
 "nbformat": 4,
 "nbformat_minor": 2
}
